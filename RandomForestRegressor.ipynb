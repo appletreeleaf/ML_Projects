{
 "cells": [
  {
   "cell_type": "markdown",
   "id": "1d3d2e0d",
   "metadata": {},
   "source": [
    " # Project 1. 자율주행 센서의 안테나 성능 예측 \n",
    "### Background\n",
    "- 생산 공정 데이터를 활용하여 Radar 센서의 안테나 성능 예측을 위한 AI 모델 개발 (데이콘 competition)\n",
    "\n",
    "### Summary\n",
    "1. Import Libraries / Packages\n",
    "2. Data Manipulation\n",
    "3. Define Model)\n",
    "4. Model Traing\n",
    "5. Validation\n",
    "6. Prediction"
   ]
  },
  {
   "cell_type": "markdown",
   "id": "d0ea670c",
   "metadata": {},
   "source": [
    "## 1. Import Libraries / Packages"
   ]
  },
  {
   "cell_type": "code",
   "execution_count": 2,
   "id": "39602e5f",
   "metadata": {},
   "outputs": [],
   "source": [
    "import pandas as pd\n",
    "import random\n",
    "import os\n",
    "import numpy as np\n",
    "%matplotlib inline\n",
    "import seaborn as sns\n",
    "import matplotlib.pyplot as plt\n",
    "import xgboost as xgb\n",
    "\n",
    "from sklearn.model_selection import train_test_split\n",
    "from sklearn.metrics import explained_variance_score\n",
    "from sklearn.preprocessing import MinMaxScaler\n",
    "from sklearn.metrics import mean_squared_error , r2_score\n",
    "from sklearn.model_selection import cross_val_score\n",
    "\n",
    "from sklearn.linear_model import LinearRegression\n",
    "from sklearn.multioutput import MultiOutputRegressor\n",
    "from sklearn.tree import DecisionTreeClassifier\n",
    "from sklearn.ensemble import RandomForestClassifier\n",
    "from sklearn.ensemble import RandomForestRegressor"
   ]
  },
  {
   "cell_type": "code",
   "execution_count": 3,
   "id": "dee9ba5c",
   "metadata": {},
   "outputs": [],
   "source": [
    "# Seed 고정\n",
    "\n",
    "def seed_everything(seed):\n",
    "    random.seed(seed)\n",
    "    os.environ['PYTHONHASHSEED'] = str(seed)\n",
    "    np.random.seed(seed)\n",
    "seed_everything(42)"
   ]
  },
  {
   "cell_type": "markdown",
   "id": "36726e89",
   "metadata": {},
   "source": [
    "## 2. Data manipulation"
   ]
  },
  {
   "cell_type": "code",
   "execution_count": 4,
   "id": "2927d21a",
   "metadata": {},
   "outputs": [],
   "source": [
    "#raw data 불러오기\n",
    "train_df = pd.read_csv('./train.csv') # features\n",
    "test_df = pd.read_csv('./test.csv') # test"
   ]
  },
  {
   "cell_type": "code",
   "execution_count": 5,
   "id": "5b974131",
   "metadata": {},
   "outputs": [],
   "source": [
    "# feature, label 나누기\n",
    "X_train = train_df.filter(regex='X') # Input : X Featrue\n",
    "y_train = train_df.filter(regex='Y') # Output : Y Feature"
   ]
  },
  {
   "cell_type": "code",
   "execution_count": 6,
   "id": "521725f0",
   "metadata": {},
   "outputs": [],
   "source": [
    "# train셋 안에서 훈련용/검증용 나누기\n",
    "X_tr, X_val, y_tr, y_val = train_test_split(X_train, y_train, test_size=0.1, random_state=156 )"
   ]
  },
  {
   "cell_type": "markdown",
   "id": "954f25f9",
   "metadata": {},
   "source": [
    "## 3. Define Model"
   ]
  },
  {
   "cell_type": "code",
   "execution_count": 7,
   "id": "81d69af9",
   "metadata": {},
   "outputs": [],
   "source": [
    "#Define the estimator\n",
    "estimator = RandomForestRegressor(max_depth = 30, \n",
    "                                  random_state = 156,\n",
    "                                  n_estimators = 800,\n",
    "                                  n_jobs = -1,\n",
    "                                  min_samples_leaf = 8,\n",
    "                                  min_samples_split = 8,\n",
    "                                 )"
   ]
  },
  {
   "cell_type": "code",
   "execution_count": 8,
   "id": "f0eb67a6",
   "metadata": {},
   "outputs": [],
   "source": [
    "# Define the model : MultiOutputRegressor\n",
    "my_model = MultiOutputRegressor(estimator = estimator, n_jobs = -1).fit(X_tr, y_tr) # n_jobs = -1 -> 사용 가능한 모든 프로세스 / 스레드를 사용함을 의미"
   ]
  },
  {
   "cell_type": "markdown",
   "id": "94d0d0e0",
   "metadata": {},
   "source": [
    "## 4. Model Training"
   ]
  },
  {
   "cell_type": "code",
   "execution_count": 10,
   "id": "d1e848a0",
   "metadata": {},
   "outputs": [],
   "source": [
    "# 테스트 데이터 준비\n",
    "X_test = test_df.drop(columns=['ID'])\n",
    "# test_x_scale = scaler.fit_transform(test_x[:])\n",
    "# test_x_scale"
   ]
  },
  {
   "cell_type": "code",
   "execution_count": 11,
   "id": "f2dffaf1",
   "metadata": {},
   "outputs": [
    {
     "name": "stderr",
     "output_type": "stream",
     "text": [
      "\n",
      "KeyboardInterrupt\n",
      "\n"
     ]
    }
   ],
   "source": [
    "# 1차 predict\n",
    "preds = my_model.predict(X_val)\n",
    "print('Done.')"
   ]
  },
  {
   "cell_type": "markdown",
   "id": "cc3c8338",
   "metadata": {},
   "source": [
    "## 5. Validation"
   ]
  },
  {
   "cell_type": "code",
   "execution_count": null,
   "id": "d388639e",
   "metadata": {},
   "outputs": [],
   "source": [
    "# 1차 검증\n",
    "mse = mean_squared_error(y_val, preds) #평가척도\n",
    "rmse = np.sqrt(mse) #mean_squared_error함수의 squared=False 옵션으로도 구할 수 있음.\n",
    "\n",
    "print('MSE : {0:.3f} , RMSE : {1:.3F}'.format(mse , rmse))\n",
    "print('Variance score : {0:.3f}'.format(r2_score(y_val, preds))) #결정계수"
   ]
  },
  {
   "cell_type": "code",
   "execution_count": 12,
   "id": "56c7881d",
   "metadata": {},
   "outputs": [
    {
     "ename": "NotFittedError",
     "evalue": "This RandomForestRegressor instance is not fitted yet. Call 'fit' with appropriate arguments before using this estimator.",
     "output_type": "error",
     "traceback": [
      "\u001b[1;31m---------------------------------------------------------------------------\u001b[0m",
      "\u001b[1;31mNotFittedError\u001b[0m                            Traceback (most recent call last)",
      "Input \u001b[1;32mIn [12]\u001b[0m, in \u001b[0;36m<cell line: 2>\u001b[1;34m()\u001b[0m\n\u001b[0;32m      1\u001b[0m \u001b[38;5;66;03m# feature 중요도\u001b[39;00m\n\u001b[1;32m----> 2\u001b[0m importances_values \u001b[38;5;241m=\u001b[39m \u001b[43mestimator\u001b[49m\u001b[38;5;241;43m.\u001b[39;49m\u001b[43mfeature_importances_\u001b[49m\n\u001b[0;32m      3\u001b[0m importances \u001b[38;5;241m=\u001b[39m pd\u001b[38;5;241m.\u001b[39mSeries(importances_values, index\u001b[38;5;241m=\u001b[39mX_train\u001b[38;5;241m.\u001b[39mcolumns)\n\u001b[0;32m      4\u001b[0m top20 \u001b[38;5;241m=\u001b[39m importances\u001b[38;5;241m.\u001b[39msort_values(ascending\u001b[38;5;241m=\u001b[39m\u001b[38;5;28;01mFalse\u001b[39;00m)[:\u001b[38;5;241m20\u001b[39m]\n",
      "File \u001b[1;32m~\\AppData\\Roaming\\Python\\Python39\\site-packages\\sklearn\\ensemble\\_forest.py:444\u001b[0m, in \u001b[0;36mBaseForest.feature_importances_\u001b[1;34m(self)\u001b[0m\n\u001b[0;32m    423\u001b[0m \u001b[38;5;129m@property\u001b[39m\n\u001b[0;32m    424\u001b[0m \u001b[38;5;28;01mdef\u001b[39;00m \u001b[38;5;21mfeature_importances_\u001b[39m(\u001b[38;5;28mself\u001b[39m):\n\u001b[0;32m    425\u001b[0m     \u001b[38;5;124;03m\"\"\"\u001b[39;00m\n\u001b[0;32m    426\u001b[0m \u001b[38;5;124;03m    The impurity-based feature importances.\u001b[39;00m\n\u001b[0;32m    427\u001b[0m \n\u001b[1;32m   (...)\u001b[0m\n\u001b[0;32m    442\u001b[0m \u001b[38;5;124;03m        array of zeros.\u001b[39;00m\n\u001b[0;32m    443\u001b[0m \u001b[38;5;124;03m    \"\"\"\u001b[39;00m\n\u001b[1;32m--> 444\u001b[0m     \u001b[43mcheck_is_fitted\u001b[49m\u001b[43m(\u001b[49m\u001b[38;5;28;43mself\u001b[39;49m\u001b[43m)\u001b[49m\n\u001b[0;32m    446\u001b[0m     all_importances \u001b[38;5;241m=\u001b[39m Parallel(n_jobs\u001b[38;5;241m=\u001b[39m\u001b[38;5;28mself\u001b[39m\u001b[38;5;241m.\u001b[39mn_jobs,\n\u001b[0;32m    447\u001b[0m                                \u001b[38;5;241m*\u001b[39m\u001b[38;5;241m*\u001b[39m_joblib_parallel_args(prefer\u001b[38;5;241m=\u001b[39m\u001b[38;5;124m'\u001b[39m\u001b[38;5;124mthreads\u001b[39m\u001b[38;5;124m'\u001b[39m))(\n\u001b[0;32m    448\u001b[0m         delayed(\u001b[38;5;28mgetattr\u001b[39m)(tree, \u001b[38;5;124m'\u001b[39m\u001b[38;5;124mfeature_importances_\u001b[39m\u001b[38;5;124m'\u001b[39m)\n\u001b[0;32m    449\u001b[0m         \u001b[38;5;28;01mfor\u001b[39;00m tree \u001b[38;5;129;01min\u001b[39;00m \u001b[38;5;28mself\u001b[39m\u001b[38;5;241m.\u001b[39mestimators_ \u001b[38;5;28;01mif\u001b[39;00m tree\u001b[38;5;241m.\u001b[39mtree_\u001b[38;5;241m.\u001b[39mnode_count \u001b[38;5;241m>\u001b[39m \u001b[38;5;241m1\u001b[39m)\n\u001b[0;32m    451\u001b[0m     \u001b[38;5;28;01mif\u001b[39;00m \u001b[38;5;129;01mnot\u001b[39;00m all_importances:\n",
      "File \u001b[1;32m~\\AppData\\Roaming\\Python\\Python39\\site-packages\\sklearn\\utils\\validation.py:72\u001b[0m, in \u001b[0;36m_deprecate_positional_args.<locals>.inner_f\u001b[1;34m(*args, **kwargs)\u001b[0m\n\u001b[0;32m     67\u001b[0m     warnings\u001b[38;5;241m.\u001b[39mwarn(\u001b[38;5;124m\"\u001b[39m\u001b[38;5;124mPass \u001b[39m\u001b[38;5;132;01m{}\u001b[39;00m\u001b[38;5;124m as keyword args. From version 0.25 \u001b[39m\u001b[38;5;124m\"\u001b[39m\n\u001b[0;32m     68\u001b[0m                   \u001b[38;5;124m\"\u001b[39m\u001b[38;5;124mpassing these as positional arguments will \u001b[39m\u001b[38;5;124m\"\u001b[39m\n\u001b[0;32m     69\u001b[0m                   \u001b[38;5;124m\"\u001b[39m\u001b[38;5;124mresult in an error\u001b[39m\u001b[38;5;124m\"\u001b[39m\u001b[38;5;241m.\u001b[39mformat(\u001b[38;5;124m\"\u001b[39m\u001b[38;5;124m, \u001b[39m\u001b[38;5;124m\"\u001b[39m\u001b[38;5;241m.\u001b[39mjoin(args_msg)),\n\u001b[0;32m     70\u001b[0m                   \u001b[38;5;167;01mFutureWarning\u001b[39;00m)\n\u001b[0;32m     71\u001b[0m kwargs\u001b[38;5;241m.\u001b[39mupdate({k: arg \u001b[38;5;28;01mfor\u001b[39;00m k, arg \u001b[38;5;129;01min\u001b[39;00m \u001b[38;5;28mzip\u001b[39m(sig\u001b[38;5;241m.\u001b[39mparameters, args)})\n\u001b[1;32m---> 72\u001b[0m \u001b[38;5;28;01mreturn\u001b[39;00m f(\u001b[38;5;241m*\u001b[39m\u001b[38;5;241m*\u001b[39mkwargs)\n",
      "File \u001b[1;32m~\\AppData\\Roaming\\Python\\Python39\\site-packages\\sklearn\\utils\\validation.py:1019\u001b[0m, in \u001b[0;36mcheck_is_fitted\u001b[1;34m(estimator, attributes, msg, all_or_any)\u001b[0m\n\u001b[0;32m   1015\u001b[0m     attrs \u001b[38;5;241m=\u001b[39m [v \u001b[38;5;28;01mfor\u001b[39;00m v \u001b[38;5;129;01min\u001b[39;00m \u001b[38;5;28mvars\u001b[39m(estimator)\n\u001b[0;32m   1016\u001b[0m              \u001b[38;5;28;01mif\u001b[39;00m v\u001b[38;5;241m.\u001b[39mendswith(\u001b[38;5;124m\"\u001b[39m\u001b[38;5;124m_\u001b[39m\u001b[38;5;124m\"\u001b[39m) \u001b[38;5;129;01mand\u001b[39;00m \u001b[38;5;129;01mnot\u001b[39;00m v\u001b[38;5;241m.\u001b[39mstartswith(\u001b[38;5;124m\"\u001b[39m\u001b[38;5;124m__\u001b[39m\u001b[38;5;124m\"\u001b[39m)]\n\u001b[0;32m   1018\u001b[0m \u001b[38;5;28;01mif\u001b[39;00m \u001b[38;5;129;01mnot\u001b[39;00m attrs:\n\u001b[1;32m-> 1019\u001b[0m     \u001b[38;5;28;01mraise\u001b[39;00m NotFittedError(msg \u001b[38;5;241m%\u001b[39m {\u001b[38;5;124m'\u001b[39m\u001b[38;5;124mname\u001b[39m\u001b[38;5;124m'\u001b[39m: \u001b[38;5;28mtype\u001b[39m(estimator)\u001b[38;5;241m.\u001b[39m\u001b[38;5;18m__name__\u001b[39m})\n",
      "\u001b[1;31mNotFittedError\u001b[0m: This RandomForestRegressor instance is not fitted yet. Call 'fit' with appropriate arguments before using this estimator."
     ]
    }
   ],
   "source": [
    "# feature 중요도\n",
    "importances_values = estimator.feature_importances_\n",
    "importances = pd.Series(importances_values, index=X_train.columns)\n",
    "top20 = importances.sort_values(ascending=False)[:20]\n",
    "plt.figure(figsize=(8, 6))\n",
    "plt.title('Feature importances Top 20')\n",
    "sns.barplot(x = top20, y = top20.index)\n",
    "plt.show()"
   ]
  },
  {
   "cell_type": "markdown",
   "id": "50816c4f",
   "metadata": {},
   "source": [
    "## 6. Prediction"
   ]
  },
  {
   "cell_type": "code",
   "execution_count": null,
   "id": "deeb0aa4",
   "metadata": {},
   "outputs": [],
   "source": [
    "#최종 예측\n",
    "my_fmodel = MultiOutputRegressor(estimator = estimator, n_jobs = -1).fit(X_train, y_train) # n_jobs = -1 -> 사용 가능한 모든 프로세스 / 스레드를 사용함을 의미\n",
    "preds = my_fmodel.predict(X_test)\n",
    "print('Done.')"
   ]
  },
  {
   "cell_type": "code",
   "execution_count": 36,
   "id": "1b737a4d",
   "metadata": {},
   "outputs": [
    {
     "data": {
      "text/plain": [
       "array([[  1.4710082 ,   1.19035672,   1.11763683, ..., -26.11446507,\n",
       "        -26.06228634, -26.10070942],\n",
       "       [  1.42689635,   1.22007794,   1.16513542, ..., -26.14551808,\n",
       "        -26.13475381, -26.13242849],\n",
       "       [  1.38813154,   1.09650931,   1.04128168, ..., -25.88910959,\n",
       "        -25.91937843, -25.92646029],\n",
       "       ...,\n",
       "       [  1.2359692 ,   0.93676707,   0.95752368, ..., -26.49986265,\n",
       "        -26.471607  , -26.49624231],\n",
       "       [  1.17877135,   0.85173444,   0.89065956, ..., -26.46338186,\n",
       "        -26.46640503, -26.49613365],\n",
       "       [  1.30163586,   0.97258776,   0.98211198, ..., -26.4670594 ,\n",
       "        -26.47936004, -26.48218177]])"
      ]
     },
     "execution_count": 36,
     "metadata": {},
     "output_type": "execute_result"
    }
   ],
   "source": [
    "preds"
   ]
  },
  {
   "cell_type": "markdown",
   "id": "7a70c0a5",
   "metadata": {},
   "source": [
    "## 7. submission"
   ]
  },
  {
   "cell_type": "code",
   "execution_count": 30,
   "id": "c522f6b1",
   "metadata": {},
   "outputs": [],
   "source": [
    "submit = pd.read_csv('./sample_submission.csv')"
   ]
  },
  {
   "cell_type": "code",
   "execution_count": 31,
   "id": "c5eebc47",
   "metadata": {},
   "outputs": [
    {
     "name": "stdout",
     "output_type": "stream",
     "text": [
      "Done.\n"
     ]
    }
   ],
   "source": [
    "for idx, col in enumerate(submit.columns):\n",
    "    if col=='ID':\n",
    "        continue\n",
    "    submit[col] = preds[:,idx-1]\n",
    "print('Done.')\n"
   ]
  },
  {
   "cell_type": "code",
   "execution_count": 32,
   "id": "14c7ec56",
   "metadata": {},
   "outputs": [
    {
     "data": {
      "text/html": [
       "<div>\n",
       "<style scoped>\n",
       "    .dataframe tbody tr th:only-of-type {\n",
       "        vertical-align: middle;\n",
       "    }\n",
       "\n",
       "    .dataframe tbody tr th {\n",
       "        vertical-align: top;\n",
       "    }\n",
       "\n",
       "    .dataframe thead th {\n",
       "        text-align: right;\n",
       "    }\n",
       "</style>\n",
       "<table border=\"1\" class=\"dataframe\">\n",
       "  <thead>\n",
       "    <tr style=\"text-align: right;\">\n",
       "      <th></th>\n",
       "      <th>ID</th>\n",
       "      <th>Y_01</th>\n",
       "      <th>Y_02</th>\n",
       "      <th>Y_03</th>\n",
       "      <th>Y_04</th>\n",
       "      <th>Y_05</th>\n",
       "      <th>Y_06</th>\n",
       "      <th>Y_07</th>\n",
       "      <th>Y_08</th>\n",
       "      <th>Y_09</th>\n",
       "      <th>Y_10</th>\n",
       "      <th>Y_11</th>\n",
       "      <th>Y_12</th>\n",
       "      <th>Y_13</th>\n",
       "      <th>Y_14</th>\n",
       "    </tr>\n",
       "  </thead>\n",
       "  <tbody>\n",
       "    <tr>\n",
       "      <th>0</th>\n",
       "      <td>TEST_00001</td>\n",
       "      <td>1.476261</td>\n",
       "      <td>1.210293</td>\n",
       "      <td>1.110736</td>\n",
       "      <td>14.039317</td>\n",
       "      <td>31.066633</td>\n",
       "      <td>16.650865</td>\n",
       "      <td>3.168970</td>\n",
       "      <td>-26.103182</td>\n",
       "      <td>-26.202742</td>\n",
       "      <td>-22.431839</td>\n",
       "      <td>24.467194</td>\n",
       "      <td>-26.095528</td>\n",
       "      <td>-26.069312</td>\n",
       "      <td>-26.086740</td>\n",
       "    </tr>\n",
       "    <tr>\n",
       "      <th>1</th>\n",
       "      <td>TEST_00002</td>\n",
       "      <td>1.451316</td>\n",
       "      <td>1.191355</td>\n",
       "      <td>1.154898</td>\n",
       "      <td>13.580468</td>\n",
       "      <td>30.991087</td>\n",
       "      <td>16.650387</td>\n",
       "      <td>3.172205</td>\n",
       "      <td>-26.238353</td>\n",
       "      <td>-26.184104</td>\n",
       "      <td>-22.266456</td>\n",
       "      <td>24.350268</td>\n",
       "      <td>-26.133199</td>\n",
       "      <td>-26.108978</td>\n",
       "      <td>-26.124071</td>\n",
       "    </tr>\n",
       "    <tr>\n",
       "      <th>2</th>\n",
       "      <td>TEST_00003</td>\n",
       "      <td>1.379797</td>\n",
       "      <td>1.132904</td>\n",
       "      <td>1.077127</td>\n",
       "      <td>13.832803</td>\n",
       "      <td>31.999874</td>\n",
       "      <td>16.608557</td>\n",
       "      <td>3.168516</td>\n",
       "      <td>-26.007367</td>\n",
       "      <td>-26.075518</td>\n",
       "      <td>-22.269052</td>\n",
       "      <td>24.298057</td>\n",
       "      <td>-25.964950</td>\n",
       "      <td>-25.996908</td>\n",
       "      <td>-25.998729</td>\n",
       "    </tr>\n",
       "    <tr>\n",
       "      <th>3</th>\n",
       "      <td>TEST_00004</td>\n",
       "      <td>1.454906</td>\n",
       "      <td>1.149447</td>\n",
       "      <td>1.094785</td>\n",
       "      <td>14.885575</td>\n",
       "      <td>32.118500</td>\n",
       "      <td>17.083437</td>\n",
       "      <td>3.100685</td>\n",
       "      <td>-25.707326</td>\n",
       "      <td>-25.752381</td>\n",
       "      <td>-21.836812</td>\n",
       "      <td>24.775836</td>\n",
       "      <td>-25.687304</td>\n",
       "      <td>-25.685976</td>\n",
       "      <td>-25.686804</td>\n",
       "    </tr>\n",
       "    <tr>\n",
       "      <th>4</th>\n",
       "      <td>TEST_00005</td>\n",
       "      <td>1.431904</td>\n",
       "      <td>1.044507</td>\n",
       "      <td>0.990575</td>\n",
       "      <td>14.922984</td>\n",
       "      <td>31.832361</td>\n",
       "      <td>17.027708</td>\n",
       "      <td>3.169441</td>\n",
       "      <td>-25.660324</td>\n",
       "      <td>-25.615455</td>\n",
       "      <td>-22.040079</td>\n",
       "      <td>24.755540</td>\n",
       "      <td>-25.543595</td>\n",
       "      <td>-25.651403</td>\n",
       "      <td>-25.640309</td>\n",
       "    </tr>\n",
       "    <tr>\n",
       "      <th>...</th>\n",
       "      <td>...</td>\n",
       "      <td>...</td>\n",
       "      <td>...</td>\n",
       "      <td>...</td>\n",
       "      <td>...</td>\n",
       "      <td>...</td>\n",
       "      <td>...</td>\n",
       "      <td>...</td>\n",
       "      <td>...</td>\n",
       "      <td>...</td>\n",
       "      <td>...</td>\n",
       "      <td>...</td>\n",
       "      <td>...</td>\n",
       "      <td>...</td>\n",
       "      <td>...</td>\n",
       "    </tr>\n",
       "    <tr>\n",
       "      <th>39603</th>\n",
       "      <td>TEST_39604</td>\n",
       "      <td>1.257105</td>\n",
       "      <td>0.974964</td>\n",
       "      <td>1.013157</td>\n",
       "      <td>12.860907</td>\n",
       "      <td>30.748744</td>\n",
       "      <td>16.724698</td>\n",
       "      <td>3.166933</td>\n",
       "      <td>-26.540364</td>\n",
       "      <td>-26.501342</td>\n",
       "      <td>-22.959006</td>\n",
       "      <td>24.365608</td>\n",
       "      <td>-26.445116</td>\n",
       "      <td>-26.440617</td>\n",
       "      <td>-26.452671</td>\n",
       "    </tr>\n",
       "    <tr>\n",
       "      <th>39604</th>\n",
       "      <td>TEST_39605</td>\n",
       "      <td>1.260489</td>\n",
       "      <td>0.874111</td>\n",
       "      <td>0.930772</td>\n",
       "      <td>14.289367</td>\n",
       "      <td>31.152853</td>\n",
       "      <td>16.687768</td>\n",
       "      <td>3.184797</td>\n",
       "      <td>-26.490015</td>\n",
       "      <td>-26.489505</td>\n",
       "      <td>-22.947160</td>\n",
       "      <td>24.389693</td>\n",
       "      <td>-26.463371</td>\n",
       "      <td>-26.419499</td>\n",
       "      <td>-26.424081</td>\n",
       "    </tr>\n",
       "    <tr>\n",
       "      <th>39605</th>\n",
       "      <td>TEST_39606</td>\n",
       "      <td>1.257871</td>\n",
       "      <td>0.921194</td>\n",
       "      <td>0.944207</td>\n",
       "      <td>13.056239</td>\n",
       "      <td>31.033331</td>\n",
       "      <td>16.531991</td>\n",
       "      <td>3.162037</td>\n",
       "      <td>-26.527971</td>\n",
       "      <td>-26.537844</td>\n",
       "      <td>-22.815616</td>\n",
       "      <td>24.296947</td>\n",
       "      <td>-26.508609</td>\n",
       "      <td>-26.492190</td>\n",
       "      <td>-26.465053</td>\n",
       "    </tr>\n",
       "    <tr>\n",
       "      <th>39606</th>\n",
       "      <td>TEST_39607</td>\n",
       "      <td>1.198016</td>\n",
       "      <td>0.862122</td>\n",
       "      <td>0.856929</td>\n",
       "      <td>14.017519</td>\n",
       "      <td>30.607618</td>\n",
       "      <td>16.748117</td>\n",
       "      <td>3.170478</td>\n",
       "      <td>-26.489510</td>\n",
       "      <td>-26.579465</td>\n",
       "      <td>-22.922726</td>\n",
       "      <td>24.436565</td>\n",
       "      <td>-26.482114</td>\n",
       "      <td>-26.494048</td>\n",
       "      <td>-26.462697</td>\n",
       "    </tr>\n",
       "    <tr>\n",
       "      <th>39607</th>\n",
       "      <td>TEST_39608</td>\n",
       "      <td>1.308353</td>\n",
       "      <td>0.941269</td>\n",
       "      <td>0.961815</td>\n",
       "      <td>13.129291</td>\n",
       "      <td>30.953241</td>\n",
       "      <td>16.505039</td>\n",
       "      <td>3.218972</td>\n",
       "      <td>-26.544580</td>\n",
       "      <td>-26.589647</td>\n",
       "      <td>-22.762033</td>\n",
       "      <td>24.220166</td>\n",
       "      <td>-26.426818</td>\n",
       "      <td>-26.493961</td>\n",
       "      <td>-26.510651</td>\n",
       "    </tr>\n",
       "  </tbody>\n",
       "</table>\n",
       "<p>39608 rows × 15 columns</p>\n",
       "</div>"
      ],
      "text/plain": [
       "               ID      Y_01      Y_02      Y_03       Y_04       Y_05  \\\n",
       "0      TEST_00001  1.476261  1.210293  1.110736  14.039317  31.066633   \n",
       "1      TEST_00002  1.451316  1.191355  1.154898  13.580468  30.991087   \n",
       "2      TEST_00003  1.379797  1.132904  1.077127  13.832803  31.999874   \n",
       "3      TEST_00004  1.454906  1.149447  1.094785  14.885575  32.118500   \n",
       "4      TEST_00005  1.431904  1.044507  0.990575  14.922984  31.832361   \n",
       "...           ...       ...       ...       ...        ...        ...   \n",
       "39603  TEST_39604  1.257105  0.974964  1.013157  12.860907  30.748744   \n",
       "39604  TEST_39605  1.260489  0.874111  0.930772  14.289367  31.152853   \n",
       "39605  TEST_39606  1.257871  0.921194  0.944207  13.056239  31.033331   \n",
       "39606  TEST_39607  1.198016  0.862122  0.856929  14.017519  30.607618   \n",
       "39607  TEST_39608  1.308353  0.941269  0.961815  13.129291  30.953241   \n",
       "\n",
       "            Y_06      Y_07       Y_08       Y_09       Y_10       Y_11  \\\n",
       "0      16.650865  3.168970 -26.103182 -26.202742 -22.431839  24.467194   \n",
       "1      16.650387  3.172205 -26.238353 -26.184104 -22.266456  24.350268   \n",
       "2      16.608557  3.168516 -26.007367 -26.075518 -22.269052  24.298057   \n",
       "3      17.083437  3.100685 -25.707326 -25.752381 -21.836812  24.775836   \n",
       "4      17.027708  3.169441 -25.660324 -25.615455 -22.040079  24.755540   \n",
       "...          ...       ...        ...        ...        ...        ...   \n",
       "39603  16.724698  3.166933 -26.540364 -26.501342 -22.959006  24.365608   \n",
       "39604  16.687768  3.184797 -26.490015 -26.489505 -22.947160  24.389693   \n",
       "39605  16.531991  3.162037 -26.527971 -26.537844 -22.815616  24.296947   \n",
       "39606  16.748117  3.170478 -26.489510 -26.579465 -22.922726  24.436565   \n",
       "39607  16.505039  3.218972 -26.544580 -26.589647 -22.762033  24.220166   \n",
       "\n",
       "            Y_12       Y_13       Y_14  \n",
       "0     -26.095528 -26.069312 -26.086740  \n",
       "1     -26.133199 -26.108978 -26.124071  \n",
       "2     -25.964950 -25.996908 -25.998729  \n",
       "3     -25.687304 -25.685976 -25.686804  \n",
       "4     -25.543595 -25.651403 -25.640309  \n",
       "...          ...        ...        ...  \n",
       "39603 -26.445116 -26.440617 -26.452671  \n",
       "39604 -26.463371 -26.419499 -26.424081  \n",
       "39605 -26.508609 -26.492190 -26.465053  \n",
       "39606 -26.482114 -26.494048 -26.462697  \n",
       "39607 -26.426818 -26.493961 -26.510651  \n",
       "\n",
       "[39608 rows x 15 columns]"
      ]
     },
     "execution_count": 32,
     "metadata": {},
     "output_type": "execute_result"
    }
   ],
   "source": [
    "submit"
   ]
  },
  {
   "cell_type": "code",
   "execution_count": 33,
   "id": "12444ce0",
   "metadata": {},
   "outputs": [],
   "source": [
    "submit.to_csv('./submit_0826_1.csv', index=False)"
   ]
  }
 ],
 "metadata": {
  "kernelspec": {
   "display_name": "Python 3 (ipykernel)",
   "language": "python",
   "name": "python3"
  },
  "language_info": {
   "codemirror_mode": {
    "name": "ipython",
    "version": 3
   },
   "file_extension": ".py",
   "mimetype": "text/x-python",
   "name": "python",
   "nbconvert_exporter": "python",
   "pygments_lexer": "ipython3",
   "version": "3.9.12"
  }
 },
 "nbformat": 4,
 "nbformat_minor": 5
}
